{
 "cells": [
  {
   "cell_type": "markdown",
   "id": "a55caf36",
   "metadata": {},
   "source": [
    "## Модель Фицхью-Нагумо\n",
    "![FNModel](modelFN.png)"
   ]
  },
  {
   "cell_type": "markdown",
   "id": "572b0591",
   "metadata": {},
   "source": [
    "![FTauShapes](f_tau_shapes.png)"
   ]
  },
  {
   "cell_type": "code",
   "execution_count": 1,
   "id": "ac8a8605",
   "metadata": {},
   "outputs": [],
   "source": [
    "# константы кусочно-линейной функции f(E)\n",
    "C1 = 4\n",
    "C2 = 1\n",
    "C3 = 15\n",
    "\n",
    "# константы кусочно-константной функции tau(E)\n",
    "tau1 = 0.5\n",
    "tau2 = 16.66\n",
    "tau3 = 0.5\n",
    "\n",
    "# границы кусочности функции f(E)\n",
    "E1 = 0.018\n",
    "E2 = ((C1 + C2) * E1 + C3) / (C3 + C2)\n",
    "\n",
    "a = E1 * (C1 / C2)\n",
    "\n",
    "# границы кусочности функции tau(E)\n",
    "B1 = 0.01\n",
    "B2 = 0.95"
   ]
  },
  {
   "cell_type": "code",
   "execution_count": 2,
   "id": "a4c002d1",
   "metadata": {},
   "outputs": [],
   "source": [
    "# Функция f(E)\n",
    "def f(E):\n",
    "    return -C1 * E if E < E1 else C2 * (E - a) if E1 <= E <= E2 else -C3 * (E - 1)"
   ]
  },
  {
   "cell_type": "code",
   "execution_count": 4,
   "id": "48d25c83",
   "metadata": {},
   "outputs": [],
   "source": [
    "# Функция tau(E)\n",
    "def tau(E):\n",
    "    return tau1 if E < B1 else tau2 if B1 <= E <= B2 else tau3"
   ]
  },
  {
   "cell_type": "code",
   "execution_count": 5,
   "id": "daf53386",
   "metadata": {},
   "outputs": [],
   "source": [
    "import numpy as np\n",
    "step = 1.2\n",
    "x_max = 72\n",
    "x = np.arange(0.0, x_max, step)\n",
    "y_max = 48\n",
    "y = np.arange(0.0, y_max, step)"
   ]
  },
  {
   "cell_type": "code",
   "execution_count": null,
   "id": "2de01889",
   "metadata": {},
   "outputs": [],
   "source": []
  }
 ],
 "metadata": {
  "kernelspec": {
   "display_name": "Python 3",
   "language": "python",
   "name": "python3"
  },
  "language_info": {
   "codemirror_mode": {
    "name": "ipython",
    "version": 3
   },
   "file_extension": ".py",
   "mimetype": "text/x-python",
   "name": "python",
   "nbconvert_exporter": "python",
   "pygments_lexer": "ipython3",
   "version": "3.9.5"
  }
 },
 "nbformat": 4,
 "nbformat_minor": 5
}
